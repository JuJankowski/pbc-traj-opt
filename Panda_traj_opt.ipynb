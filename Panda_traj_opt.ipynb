{
 "cells": [
  {
   "cell_type": "code",
   "execution_count": 1,
   "metadata": {
    "scrolled": true
   },
   "outputs": [
    {
     "name": "stderr",
     "output_type": "stream",
     "text": [
      "/home/julius/.local/lib/python3.8/site-packages/quaternion/numba_wrapper.py:21: UserWarning: \n",
      "\n",
      "!!!!!!!!!!!!!!!!!!!!!!!!!!!!!!!!!!!!!!!!!!!!!!!!!!!!!\n",
      "Could not import from numba, which means that some\n",
      "parts of this code may run MUCH more slowly.  You\n",
      "may wish to install numba.\n",
      "!!!!!!!!!!!!!!!!!!!!!!!!!!!!!!!!!!!!!!!!!!!!!!!!!!!!!\n",
      "\n",
      "  warnings.warn(warning_text)\n"
     ]
    }
   ],
   "source": [
    "import numpy as np\n",
    "import quaternion\n",
    "import matplotlib.pyplot as plt\n",
    "import pandapybullet as ppb\n",
    "import pybullet\n",
    "import time\n",
    "from scipy.optimize import minimize, Bounds, NonlinearConstraint, BFGS\n",
    "\n",
    "%load_ext autoreload\n",
    "%autoreload 2"
   ]
  },
  {
   "cell_type": "markdown",
   "metadata": {},
   "source": [
    "## Panda Simulation"
   ]
  },
  {
   "cell_type": "code",
   "execution_count": 2,
   "metadata": {
    "scrolled": false
   },
   "outputs": [
    {
     "name": "stderr",
     "output_type": "stream",
     "text": [
      "/home/julius/.local/lib/python3.8/site-packages/numpy/core/_asarray.py:83: VisibleDeprecationWarning: Creating an ndarray from ragged nested sequences (which is a list-or-tuple of lists-or-tuples-or ndarrays with different lengths or shapes) is deprecated. If you meant to do this, you must specify 'dtype=object' when creating the ndarray\n",
      "  return array(a, dtype, copy=False, order=order)\n"
     ]
    }
   ],
   "source": [
    "dt_con = 0.0005 #dt\n",
    "ndof = 7\n",
    "\n",
    "world_sim = ppb.WorldSim(gravity=[0,0,-10], mode='DIRECT',realtime=False)\n",
    "world_sim.set_time_step(dt_con)\n",
    "world_sim.setup_scene()\n",
    "robot = world_sim.load_panda(pos=[0,0,0], orn=[0,0,0])"
   ]
  },
  {
   "cell_type": "code",
   "execution_count": 3,
   "metadata": {},
   "outputs": [],
   "source": [
    "def quat_log_error(q_1, q_2):\n",
    "    dq = q_1 * q_2.conjugate()\n",
    "    return quaternion.as_rotation_vector(dq)\n",
    "\n",
    "def quat_rect(q, q_d):\n",
    "    q_vec = quaternion.as_float_array(q)\n",
    "    q_d_vec = quaternion.as_float_array(q_d)\n",
    "    e_euclidean = q_vec-q_d_vec\n",
    "    if e_euclidean.dot(e_euclidean) > 2:\n",
    "        return -q\n",
    "    return q\n",
    "\n",
    "def robot_quaternion(robot):\n",
    "    robot.rotation = 'mat'\n",
    "    R_ = robot.orn\n",
    "    quat_ = quaternion.from_rotation_matrix(R_)\n",
    "    return quat_"
   ]
  },
  {
   "cell_type": "code",
   "execution_count": 4,
   "metadata": {},
   "outputs": [],
   "source": [
    "q_0 = np.array([0.63, -0.23 , 0., -1.7, 0, 1.51, 0.72]) # Initial joint configuration of the robot\n",
    "dq_0 = np.array([0., 0. , 0., 0., 0., 0., 0.]) # Initial joint velocity of the robot\n",
    "\n",
    "qMax = np.array([2.8973 , 1.7628 , 2.8973 , -0.0698 , 2.8973 , 3.7525 , 2.8973])\n",
    "qMin = np.array([-2.8973 , -1.7628 , -2.8973 , -3.0718 , -2.8973 , -0.0175 , -2.8973])\n",
    "\n",
    "dq_lim = 0.8\n",
    "ddq_lim = 2"
   ]
  },
  {
   "cell_type": "code",
   "execution_count": 5,
   "metadata": {},
   "outputs": [],
   "source": [
    "x_1 = np.array([0.1, -0.5, 0.5])\n",
    "quat_1 = np.quaternion(0., 1., 0., 0.)\n",
    "\n",
    "x_2 = np.array([0.6, 0.0, 0.05])\n",
    "quat_2 = np.quaternion(0., 1., 0., 0.)\n",
    "dq_2 = np.zeros(7)"
   ]
  },
  {
   "cell_type": "markdown",
   "metadata": {},
   "source": [
    "## Initialization IK"
   ]
  },
  {
   "cell_type": "code",
   "execution_count": 6,
   "metadata": {},
   "outputs": [],
   "source": [
    "def getIK(q0, x_d, quat_d, alpha=0.1, numIter=100):\n",
    "    q = q0 + 0. # instead of deep copy\n",
    "    for i in range(numIter):\n",
    "        robot.set_q_(q)\n",
    "        x = robot.x\n",
    "        quat = quat_rect(robot_quaternion(robot), quat_d)\n",
    "        J = robot.J\n",
    "        dx = - (x - x_d)\n",
    "        w = 2 * quat_log_error(quat_d,quat)\n",
    "        q += (alpha * np.linalg.pinv(J) @ np.concatenate((dx,w))).reshape(np.size(q0))\n",
    "    return q"
   ]
  },
  {
   "cell_type": "code",
   "execution_count": 7,
   "metadata": {},
   "outputs": [
    {
     "name": "stdout",
     "output_type": "stream",
     "text": [
      "[ True  True  True  True  True  True  True] [ True  True  True  True  True  True  True]\n",
      "[ True  True  True  True  True  True  True] [ True  True  True  True  True  True  True]\n"
     ]
    }
   ],
   "source": [
    "q_1_init = getIK(q_0, x_1, quat_1, alpha=0.2)\n",
    "q_2_init = getIK(q_1_init, x_2, quat_2, alpha=0.2)\n",
    "\n",
    "print(qMin < q_1_init, q_1_init < qMax)\n",
    "print(qMin < q_2_init, q_2_init < qMax)"
   ]
  },
  {
   "cell_type": "markdown",
   "metadata": {},
   "source": [
    "## Inner optimization"
   ]
  },
  {
   "cell_type": "code",
   "execution_count": 8,
   "metadata": {},
   "outputs": [],
   "source": [
    "def Phi_dddq(ndof):\n",
    "    phi_dddq = np.array([[0, 1]])\n",
    "    return np.kron(np.eye(ndof), phi_dddq)\n",
    "\n",
    "def Phi_ddq(t, ndof):\n",
    "    phi_ddq = np.array([[1, t]])\n",
    "    return np.kron(np.eye(ndof), phi_ddq)\n",
    "\n",
    "def Phi_dq(t, ndof):\n",
    "    phi_dq = np.array([[t, t**2/2]])\n",
    "    return np.kron(np.eye(ndof), phi_dq)\n",
    "\n",
    "def Phi_q(t, ndof):\n",
    "    phi_q = np.array([[t**2/2, t**3/6]])\n",
    "    return np.kron(np.eye(ndof), phi_q)"
   ]
  },
  {
   "cell_type": "code",
   "execution_count": 9,
   "metadata": {},
   "outputs": [],
   "source": [
    "def getTrajectory(w, T, num_steps, q_0, dq_0):\n",
    "    ndof = int(len(w) / 2)\n",
    "    \n",
    "    t = np.linspace(0,T,num_steps)\n",
    "    \n",
    "    Phi_ddq_ = np.zeros((num_steps*ndof, 2*ndof))\n",
    "    Phi_dq_ = np.zeros((num_steps*ndof, 2*ndof))\n",
    "    Phi_q_ = np.zeros((num_steps*ndof, 2*ndof))\n",
    "\n",
    "    for i in range(num_steps):\n",
    "        Phi_ddq_[i*ndof:(i+1)*ndof] = Phi_ddq(t[i], ndof)\n",
    "        Phi_dq_[i*ndof:(i+1)*ndof] = Phi_dq(t[i], ndof)\n",
    "        Phi_q_[i*ndof:(i+1)*ndof] = Phi_q(t[i], ndof)\n",
    "        \n",
    "    if np.size(q_0) > 1:\n",
    "        q_0 = q_0.reshape((np.size(q_0),1))\n",
    "    if np.size(dq_0) > 1:\n",
    "        dq_0 = dq_0.reshape((np.size(dq_0),1))\n",
    "        \n",
    "    ddq = Phi_ddq_ @ w\n",
    "    dq = np.tile(dq_0, (num_steps,1))[:,0] + Phi_dq_ @ w\n",
    "    q = np.tile(q_0, (num_steps,1))[:,0] + (dq_0 * t).T.reshape((ndof*num_steps)) + (Phi_q_ @ w)\n",
    "    \n",
    "    return q, dq, ddq, t"
   ]
  },
  {
   "cell_type": "code",
   "execution_count": 10,
   "metadata": {},
   "outputs": [],
   "source": [
    "def A_two(T1, T2, ndof):\n",
    "    A = np.zeros((4*ndof,4*ndof))\n",
    "    A[:ndof,:2*ndof] = Phi_q(T1, ndof)\n",
    "\n",
    "    A[ndof:2*ndof,:2*ndof] = T2 * Phi_dq(T1, ndof)\n",
    "    A[ndof:2*ndof,2*ndof:] = Phi_q(T2, ndof)\n",
    "\n",
    "    A[2*ndof:3*ndof,:2*ndof] = Phi_dq(T1, ndof)\n",
    "    A[2*ndof:3*ndof,2*ndof:] = Phi_dq(T2, ndof)\n",
    "\n",
    "    A[3*ndof:4*ndof,:2*ndof] = Phi_ddq(T1, ndof)\n",
    "    A[3*ndof:4*ndof,2*ndof:] = - Phi_ddq(0, ndof)\n",
    "    \n",
    "    return A\n",
    "\n",
    "def dA_two(T1, T2, ndof):\n",
    "    dA = np.zeros((2,4*ndof,4*ndof))\n",
    "    \n",
    "    dA[0,:ndof,:2*ndof] = Phi_dq(T1, ndof)\n",
    "    dA[0,ndof:2*ndof,:2*ndof] = T2 * Phi_ddq(T1, ndof)\n",
    "    dA[0,2*ndof:3*ndof,:2*ndof] = Phi_ddq(T1, ndof)\n",
    "    dA[0,3*ndof:4*ndof,:2*ndof] = Phi_dddq(ndof)\n",
    "    \n",
    "    dA[1,ndof:2*ndof,:2*ndof] = Phi_dq(T1, ndof)\n",
    "    dA[1,ndof:2*ndof,2*ndof:] = Phi_dq(T2, ndof)\n",
    "    dA[1,2*ndof:3*ndof,2*ndof:] = Phi_ddq(T2, ndof)\n",
    "    \n",
    "    return dA\n",
    "\n",
    "def dA_inv(dA, A_inv):\n",
    "    return - A_inv @ dA @ A_inv\n",
    "\n",
    "def ddA_inv(dA, ddA, A_inv):\n",
    "    return - A_inv @ ddA @ A_inv - 2 * dA_inv(dA, A_inv) @ dA @ A_inv\n",
    "\n",
    "def b_two(q_0, dq_0, q_1, q_2, dq_2, T1, T2):\n",
    "    ndof = len(q_0)\n",
    "    b = np.zeros(4*ndof)\n",
    "    b[:ndof] = q_1 - q_0 - T1 * dq_0\n",
    "    b[ndof:2*ndof] = q_2 - q_1 - T2 * dq_0\n",
    "    b[2*ndof:3*ndof] = dq_2 - dq_0\n",
    "    return b\n",
    "\n",
    "def dbdT_two(dq_0):\n",
    "    ndof = len(dq_0)\n",
    "    db = np.zeros((4*ndof,2))\n",
    "    db[:ndof,0] = - dq_0\n",
    "    db[ndof:2*ndof,1] = - dq_0\n",
    "    return db\n",
    "    \n",
    "def dbdq1_two(ndof):\n",
    "    db = np.zeros((4*ndof,ndof))\n",
    "    db[:ndof,:] = np.eye(ndof)\n",
    "    db[ndof:2*ndof,:] = - np.eye(ndof)\n",
    "    return db\n",
    "    \n",
    "def dbdq2_two(ndof):\n",
    "    db = np.zeros((4*ndof,ndof))\n",
    "    db[ndof:2*ndof,:] = np.eye(ndof)\n",
    "    return db"
   ]
  },
  {
   "cell_type": "markdown",
   "metadata": {},
   "source": [
    "## Derivative of primitive weights wrt. optimization parameters"
   ]
  },
  {
   "cell_type": "code",
   "execution_count": 11,
   "metadata": {},
   "outputs": [],
   "source": [
    "def w(p):\n",
    "    T = p[:2]\n",
    "    q_1 = p[2:9]\n",
    "    q_2 = p[9:]\n",
    "    return np.linalg.inv(A_two(T[0], T[1], ndof)) @ b_two(q_0, dq_0, q_1, q_2, dq_2, T[0], T[1])\n",
    "\n",
    "def dwdp(p):\n",
    "    T = p[:2]\n",
    "    q_1 = p[2:9]\n",
    "    q_2 = p[9:]\n",
    "    \n",
    "    dwdp_ = np.zeros((4*ndof,len(p)))\n",
    "    \n",
    "    A = A_two(T[0], T[1], ndof)\n",
    "    dA = dA_two(T[0], T[1], ndof)\n",
    "    A_inv = np.linalg.inv(A)\n",
    "    dA_inv_1 = - A_inv @ dA[0] @ A_inv\n",
    "    dA_inv_2 = - A_inv @ dA[1] @ A_inv\n",
    "    \n",
    "    b = b_two(q_0, dq_0, q_1, q_2, dq_2, T[0], T[1])\n",
    "    dbdT = dbdT_two(dq_0)\n",
    "    dbdq1 = dbdq1_two(ndof)\n",
    "    dbdq2 = dbdq2_two(ndof)\n",
    "    \n",
    "    dwdp_[:,0] = dA_inv_1 @ b + A_inv @ dbdT[:,0]\n",
    "    dwdp_[:,1] = dA_inv_2 @ b + A_inv @ dbdT[:,1]\n",
    "    dwdp_[:,2:9] = A_inv @ dbdq1\n",
    "    dwdp_[:,9:] = A_inv @ dbdq2\n",
    "    \n",
    "    return dwdp_"
   ]
  },
  {
   "cell_type": "markdown",
   "metadata": {},
   "source": [
    "## Acceleration constraint (bounded acceleration)"
   ]
  },
  {
   "cell_type": "code",
   "execution_count": 12,
   "metadata": {},
   "outputs": [],
   "source": [
    "def cons_f_ddq(p):\n",
    "    T = p[:2]\n",
    "    \n",
    "    w_ = w(np.concatenate((p,q_1,q_2)))\n",
    "    \n",
    "    ddq_0 = Phi_ddq(0,ndof) @ w_[:2*ndof]\n",
    "    ddq_1 = Phi_ddq(T[0],ndof) @ w_[:2*ndof]\n",
    "    ddq_2 = Phi_ddq(T[1],ndof) @ w_[2*ndof:]\n",
    "    \n",
    "    ddq_con = np.zeros(2*ndof)\n",
    "    \n",
    "    for i in range(ndof):\n",
    "        if np.abs(ddq_0[i]) > np.abs(ddq_1[i]):\n",
    "            ddq_con[i] = ddq_0[i]\n",
    "        else:\n",
    "            ddq_con[i] = ddq_1[i]\n",
    "            \n",
    "        if np.abs(ddq_2[i]) > np.abs(ddq_1[i]):\n",
    "            ddq_con[ndof+i] = ddq_2[i]\n",
    "        else:\n",
    "            ddq_con[ndof+i] = ddq_1[i]\n",
    "        \n",
    "    return ddq_con\n",
    "\n",
    "def cons_J_ddq(p):\n",
    "    T = p[:2]\n",
    "    \n",
    "    w_ = w(np.concatenate((p,q_1,q_2)))\n",
    "    dwdp_ = dwdp(np.concatenate((p,q_1_init,q_2_init)))[:,:2]\n",
    "    \n",
    "    ddq_0 = Phi_ddq(0,ndof) @ w_[:2*ndof]\n",
    "    ddq_1 = Phi_ddq(T[0],ndof) @ w_[:2*ndof]\n",
    "    ddq_2 = Phi_ddq(T[1],ndof) @ w_[2*ndof:]\n",
    "    \n",
    "    J_0 = Phi_ddq(0,ndof) @ dwdp_[:2*ndof]\n",
    "    J_1_a = Phi_ddq(T[0],ndof) @ dwdp_[:2*ndof]\n",
    "    J_1_b = Phi_ddq(0,ndof) @ dwdp_[2*ndof:]\n",
    "    J_2 = Phi_ddq(T[1],ndof) @ dwdp_[2*ndof:]\n",
    "    \n",
    "    J_ = np.zeros((2*ndof, len(p)))\n",
    "    \n",
    "    for i in range(ndof):\n",
    "        if np.abs(ddq_0[i]) > np.abs(ddq_1[i]):\n",
    "            J_[i] = J_0[i]\n",
    "        else:\n",
    "            J_[i] = J_1_a[i]\n",
    "            \n",
    "        if np.abs(ddq_2[i]) > np.abs(ddq_1[i]):\n",
    "            J_[ndof+i] = J_2[i]\n",
    "        else:\n",
    "            J_[ndof+i] = J_1_b[i]\n",
    "            \n",
    "    return J_"
   ]
  },
  {
   "cell_type": "markdown",
   "metadata": {},
   "source": [
    "## Velocity constraint (bounded velocity)"
   ]
  },
  {
   "cell_type": "code",
   "execution_count": 13,
   "metadata": {},
   "outputs": [],
   "source": [
    "def cons_f_dq(p):\n",
    "    T = p[:2]\n",
    "    \n",
    "    w_ = w(np.concatenate((p,q_1,q_2)))\n",
    "    \n",
    "    dq_1 = dq_0 + Phi_dq(T[0],ndof) @ w_[:2*ndof]\n",
    "    \n",
    "    dq_con = np.zeros(2*ndof)\n",
    "    \n",
    "    for i in range(ndof):\n",
    "        dq_con[i] = dq_0[i]\n",
    "        if np.abs(dq_0[i]) < np.abs(dq_1[i]):\n",
    "            dq_con[i] = dq_1[i]\n",
    "        t_max = - w_[2*i] / w_[2*i+1]\n",
    "        if 0 < t_max and t_max < T[0]:\n",
    "            if np.abs(dq_con[i]) < np.abs((dq_0 + Phi_dq(t_max,ndof) @ w_[:2*ndof])[i]):\n",
    "                dq_con[i] = (dq_0 + Phi_dq(t_max,ndof) @ w_[:2*ndof])[i]\n",
    "\n",
    "        dq_con[ndof+i] = dq_2[i]\n",
    "        if np.abs(dq_2[i]) < np.abs(dq_1[i]):\n",
    "            dq_con[ndof+i] = dq_1[i]\n",
    "        t_max = - w_[2*(ndof+i)] / w_[2*(ndof+i)+1]\n",
    "        if 0 < t_max and t_max < T[1]:\n",
    "            if np.abs(dq_con[ndof+i]) < np.abs((dq_1 + Phi_dq(t_max,ndof) @ w_[2*ndof:])[i]):\n",
    "                dq_con[ndof+i] = (dq_1 + Phi_dq(t_max,ndof) @ w_[2*ndof:])[i]\n",
    "            \n",
    "    return dq_con\n",
    "\n",
    "def cons_J_dq(p):\n",
    "    T = p[:2]\n",
    "    \n",
    "    w_ = w(np.concatenate((p,q_1,q_2)))\n",
    "    dwdp_ = dwdp(np.concatenate((p,q_1,q_2)))[:,:2]\n",
    "    \n",
    "    dq_1 = dq_0 + Phi_dq(T[0],ndof) @ w_[:2*ndof]\n",
    "    \n",
    "    J_1_a = Phi_dq(T[0],ndof) @ dwdp_[:2*ndof]\n",
    "    J_1_b = Phi_dq(0,ndof) @ dwdp_[2*ndof:]\n",
    "    \n",
    "    J_ = np.zeros((2*ndof, len(p)))\n",
    "    \n",
    "    for i in range(ndof):\n",
    "        dq_e = dq_0[i]\n",
    "        J_[i] = np.zeros(len(p))\n",
    "        if np.abs(dq_0[i]) < np.abs(dq_1[i]):\n",
    "            dq_e = dq_1[i]\n",
    "            J_[i] = J_1_a[i]\n",
    "        t_max = - w_[2*i] / w_[2*i+1]\n",
    "        if 0 < t_max and t_max < T[0]:\n",
    "            if np.abs(dq_e) < np.abs((dq_0 + Phi_dq(t_max,ndof) @ w_[:2*ndof])[i]):\n",
    "                J_[i] = (Phi_dq(t_max,ndof) @ dwdp_[:2*ndof])[i]\n",
    "\n",
    "        dq_e = dq_2[i]\n",
    "        J_[ndof+i] = np.zeros(len(p))\n",
    "        if np.abs(dq_2[i]) < np.abs(dq_1[i]):\n",
    "            dq_e = dq_1[i]\n",
    "            J_[ndof+i] = J_1_b[i]\n",
    "        t_max = - w_[2*(ndof+i)] / w_[2*(ndof+i)+1]\n",
    "        if 0 < t_max and t_max < T[1]:\n",
    "            if np.abs(dq_e) < np.abs((dq_1 + Phi_dq(t_max,ndof) @ w_[2*ndof:])[i]):\n",
    "                J_[ndof+i] = (Phi_dq(t_max,ndof) @ dwdp_[2*ndof:])[i]\n",
    "            \n",
    "    return J_"
   ]
  },
  {
   "cell_type": "markdown",
   "metadata": {},
   "source": [
    "## Position constraint (desired end effector pose)"
   ]
  },
  {
   "cell_type": "code",
   "execution_count": 14,
   "metadata": {},
   "outputs": [],
   "source": [
    "def cons_f_q(p):\n",
    "    q_1 = p[:ndof]\n",
    "    q_2 = p[ndof:]\n",
    "    \n",
    "    robot.set_q_(q_1)\n",
    "    x_1_ = robot.x\n",
    "    \n",
    "    robot.set_q_(q_2)\n",
    "    x_2_ = robot.x\n",
    "    \n",
    "    e_1 = 0.5 * np.linalg.norm(x_1_ - x_1)**2\n",
    "    e_2 = 0.5 * np.linalg.norm(x_2_ - x_2)**2\n",
    "    \n",
    "    return [e_1, e_2]\n",
    "\n",
    "def cons_J_q(p):\n",
    "    q_1 = p[2:9]\n",
    "    q_2 = p[9:]\n",
    "    \n",
    "    J_ = np.zeros((2,len(p)))\n",
    "    \n",
    "    J_[0,2:9] = q_1 - q_1_init\n",
    "    J_[1,9:] = q_2 - q_2_init\n",
    "    \n",
    "    return J_\n",
    "\n",
    "def cons_H_q(p, v):\n",
    "    q_1 = p[2:9]\n",
    "    q_2 = p[9:]\n",
    "    \n",
    "    H_ = np.zeros((len(p), len(p)))\n",
    "    H_[2:9, 2:9] += v[0] * np.eye(ndof)\n",
    "    H_[9:, 9:] += v[1] * np.eye(ndof)"
   ]
  },
  {
   "cell_type": "markdown",
   "metadata": {},
   "source": [
    "## Path length cost"
   ]
  },
  {
   "cell_type": "code",
   "execution_count": 15,
   "metadata": {},
   "outputs": [],
   "source": [
    "def cost_f(p):\n",
    "    q_1 = p[:ndof]\n",
    "    q_2 = p[ndof:]\n",
    "    w_ = w(np.concatenate((T,q_1,q_2)))\n",
    "    cost = 0\n",
    "    dq_0_ = dq_0\n",
    "    for i in range(len(T)):\n",
    "        T_ = T[i]\n",
    "        T_2 = T_*T_\n",
    "        T_3 = T_2*T_\n",
    "        \n",
    "        P_dof = T_3 * np.array([[1/3,T_/8],[T_/8,T_2/20]])\n",
    "        P = np.kron(np.eye(ndof), P_dof)\n",
    "        \n",
    "        cost += T_ * dq_0_.dot(dq_0_) + 2 * dq_0_.dot(Phi_q(T_,ndof) @ w_[i*2*ndof:(i+1)*2*ndof]) + w_[i*2*ndof:(i+1)*2*ndof].T @ P @ w_[i*2*ndof:(i+1)*2*ndof]\n",
    "        \n",
    "        dq_0_ += Phi_dq(T_,ndof) @ w_[i*2*ndof:(i+1)*2*ndof]\n",
    "        \n",
    "    return cost"
   ]
  },
  {
   "cell_type": "markdown",
   "metadata": {},
   "source": [
    "## Via point configuration optimization"
   ]
  },
  {
   "cell_type": "raw",
   "metadata": {},
   "source": [
    "lb_array = np.concatenate((qMin, qMin))\n",
    "ub_array = np.concatenate((qMax, qMax))\n",
    "bound = Bounds(lb_array, ub_array, keep_feasible=True)\n",
    "\n",
    "T = np.array([1.5,1.5])\n",
    "\n",
    "nlc_pose = NonlinearConstraint(cons_f_q, lb=0, ub=0)\n",
    "\n",
    "p_init = np.concatenate((q_0, q_0))\n",
    "\n",
    "start = time.time()\n",
    "\n",
    "res = minimize(cost_f, p_init, method='trust-constr', bounds=bound, constraints=[nlc_pose], options={'verbose': 1})\n",
    "\n",
    "print(\"Elapsed time: \",time.time()-start,\" [s]\")\n",
    "\n",
    "print(p_init)\n",
    "print(res.x)\n",
    "print(cost_f(p_init), cost_f(res.x))\n",
    "print(cons_f_q(p_init), cons_f_q(res.x))\n",
    "\n",
    "q_1 = res.x[:ndof]\n",
    "q_2 = res.x[ndof:]"
   ]
  },
  {
   "cell_type": "code",
   "execution_count": 16,
   "metadata": {},
   "outputs": [],
   "source": [
    "T = np.array([1.5,1.5])\n",
    "q_1 = q_1_init\n",
    "q_2 = q_2_init"
   ]
  },
  {
   "cell_type": "code",
   "execution_count": 17,
   "metadata": {},
   "outputs": [
    {
     "name": "stdout",
     "output_type": "stream",
     "text": [
      "Optimization terminated successfully.    (Exit mode 0)\n",
      "            Current function value: 5.0505066923295905\n",
      "            Iterations: 7\n",
      "            Function evaluations: 28\n",
      "            Gradient evaluations: 7\n",
      "Elapsed time:  0.7123839855194092  [s]\n",
      "[1.82409747 3.22640922] 0.8000000000000002 1.0889906751768148\n",
      "Optimal duration:  5.0505066923295905  seconds\n"
     ]
    }
   ],
   "source": [
    "def cost_f_T(p):\n",
    "    return p[0] + p[1]\n",
    "\n",
    "lb_array = np.array([1e-3, 1e-3])\n",
    "ub_array = np.array([20, 20])\n",
    "bound = Bounds(lb_array, ub_array, keep_feasible=True)\n",
    "\n",
    "nlc_dq = NonlinearConstraint(cons_f_dq, -dq_lim, dq_lim)#, jac=cons_J_dq)#, hess=BFGS())\n",
    "nlc_ddq = NonlinearConstraint(cons_f_ddq, -ddq_lim, ddq_lim)#, jac=cons_J_ddq)#, hess=BFGS())\n",
    "\n",
    "p_init = T\n",
    "\n",
    "start = time.time()\n",
    "\n",
    "res = minimize(cost_f_T, p_init, method='SLSQP', bounds=bound, constraints=[nlc_dq, nlc_ddq], options={'ftol': 1e-9, 'disp': True})\n",
    "\n",
    "print(\"Elapsed time: \",time.time()-start,\" [s]\")\n",
    "\n",
    "print(res.x, np.max(np.abs(cons_f_dq(res.x))), np.max(np.abs(cons_f_ddq(res.x))))\n",
    "T_opt = res.x[:2]\n",
    "                        \n",
    "w_opt = np.linalg.inv(A_two(T_opt[0], T_opt[1], ndof)) @ b_two(q_0, dq_0, q_1, q_2, dq_2, T_opt[0], T_opt[1])\n",
    "\n",
    "#print(cons_f_q(res.x))\n",
    "\n",
    "print(\"Optimal duration: \", np.sum(T_opt), \" seconds\")"
   ]
  },
  {
   "cell_type": "code",
   "execution_count": 18,
   "metadata": {},
   "outputs": [
    {
     "data": {
      "image/png": "[encoded data removed]",
      "text/plain": [
       "<Figure size 1280x1120 with 7 Axes>"
      ]
     },
     "metadata": {},
     "output_type": "display_data"
    }
   ],
   "source": [
    "N = 500\n",
    "\n",
    "q_s1, dq_s1, ddq_s1, t1 = getTrajectory(w_opt[:2*ndof], T_opt[0], int(T_opt[0]*N), q_0, dq_0)\n",
    "q_s2, dq_s2, ddq_s2, t2 = getTrajectory(w_opt[2*ndof:], T_opt[1], int(T_opt[1]*N), q_s1[-ndof:], dq_s1[-ndof:])\n",
    "\n",
    "ddq = np.concatenate((ddq_s1[:-ndof], ddq_s2))\n",
    "dq = np.concatenate((dq_s1[:-ndof], dq_s2))\n",
    "q = np.concatenate((q_s1[:-ndof], q_s2))\n",
    "\n",
    "t = np.concatenate((t1[:-1], t2+t1[-1]))\n",
    "\n",
    "fig, axs = plt.subplots(ndof, 1, figsize=(16, ndof*2), dpi= 80, facecolor='w', edgecolor='k')\n",
    "\n",
    "for i in range(ndof):\n",
    "    axs[i].plot(t, 0.1*ddq[i::ndof], 'b', lw=3)\n",
    "    axs[i].plot(t, dq[i::ndof], 'r', lw=3)\n",
    "    axs[i].plot(t, q[i::ndof], 'g', lw=3)\n",
    "    axs[i].grid(True)\n",
    "\n",
    "    axs[i].plot([0,np.sum(T_opt)],[dq_lim, dq_lim],'r--')\n",
    "    axs[i].plot([0,np.sum(T_opt)],[-dq_lim, -dq_lim],'r--')\n",
    "\n",
    "    axs[i].plot([0,np.sum(T_opt)],0.1*np.array([ddq_lim, ddq_lim]),'b--')\n",
    "    axs[i].plot([0,np.sum(T_opt)],0.1*np.array([-ddq_lim, -ddq_lim]),'b--')\n",
    "\n",
    "# axs[1].set_xlabel('t', fontsize = 24)\n",
    "\n",
    "# axs[0].set_ylabel('vel & acc/10 (DoF 1)', fontsize = 24)\n",
    "# axs[1].set_ylabel('vel & acc/10 (DoF 2)', fontsize = 24)\n",
    "\n",
    "fig.tight_layout()\n",
    "plt.show()"
   ]
  },
  {
   "cell_type": "code",
   "execution_count": 19,
   "metadata": {
    "scrolled": false
   },
   "outputs": [
    {
     "name": "stderr",
     "output_type": "stream",
     "text": [
      "/home/julius/.local/lib/python3.8/site-packages/numpy/core/_asarray.py:83: VisibleDeprecationWarning: Creating an ndarray from ragged nested sequences (which is a list-or-tuple of lists-or-tuples-or ndarrays with different lengths or shapes) is deprecated. If you meant to do this, you must specify 'dtype=object' when creating the ndarray\n",
      "  return array(a, dtype, copy=False, order=order)\n"
     ]
    }
   ],
   "source": [
    "world_sim.GUI()\n",
    "world_sim.set_time_step(dt_con)\n",
    "world_sim.setup_scene()\n",
    "robot = world_sim.load_panda(pos=[0,0,0], orn=[0,0,0])"
   ]
  },
  {
   "cell_type": "code",
   "execution_count": 20,
   "metadata": {},
   "outputs": [],
   "source": [
    "q_home = q_0\n",
    "#q_home = np.array([-0.6, -0.0, -0.3, -2.6, 0.0, 2.4, 0.7])\n",
    "#q_home = np.array([0, 0, 0, -2.6, 0.0, 2.4, 0.7])\n",
    "\n",
    "robot.default_q = q_home\n",
    "\n",
    "robot.mimic_motor = False\n",
    "robot.reset_q(max_iter=100)"
   ]
  },
  {
   "cell_type": "code",
   "execution_count": 22,
   "metadata": {},
   "outputs": [
    {
     "name": "stdout",
     "output_type": "stream",
     "text": [
      "joints are free now\n"
     ]
    }
   ],
   "source": [
    "N_sim = len(t)\n",
    "\n",
    "dt_replay = 0.005\n",
    "N_replay = int(np.sum(T_opt) / dt_replay)\n",
    "\n",
    "log_q = q.reshape((int(len(q)/ndof),ndof))\n",
    "\n",
    "robot.mimic_motor = False\n",
    "robot.reset_q(max_iter=100)\n",
    "robot.joints_free=True\n",
    "\n",
    "world_sim.remove_all_objects()\n",
    "p1 = world_sim.load_marker(pos=[0,0,0], orn=[0,0,0])\n",
    "p2 = world_sim.load_marker(pos=[0,0,0], orn=[0,0,0])\n",
    "ee = world_sim.load_marker(pos=[0,0,0], orn=[0,0,0])\n",
    "\n",
    "p1.set_position_orientation(pos=x_1)\n",
    "p2.set_position_orientation(pos=x_2)\n",
    "\n",
    "for i in range(0, N_replay-1):\n",
    "    n = int(i * N_sim / N_replay)\n",
    "    # Read robot state\n",
    "    q_ = log_q[n,:]\n",
    "    robot.set_q(q_)\n",
    "    \n",
    "#     s = s0 + np.array([a * np.sin(i/N_replay * w*np.pi), a * np.cos(i/N_replay * w*np.pi)])\n",
    "#     sphere.set_position_orientation(pos=np.array([s[0],s[1],0.05]))\n",
    "    \n",
    "    ee.set_position_orientation(pos=robot.x)\n",
    "    \n",
    "    time.sleep(dt_replay)"
   ]
  }
 ],
 "metadata": {
  "kernelspec": {
   "display_name": "Python 3",
   "language": "python",
   "name": "python3"
  },
  "language_info": {
   "codemirror_mode": {
    "name": "ipython",
    "version": 3
   },
   "file_extension": ".py",
   "mimetype": "text/x-python",
   "name": "python",
   "nbconvert_exporter": "python",
   "pygments_lexer": "ipython3",
   "version": "3.8.10"
  }
 },
 "nbformat": 4,
 "nbformat_minor": 4
}
